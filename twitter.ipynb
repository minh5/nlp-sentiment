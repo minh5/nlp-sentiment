{
 "cells": [
  {
   "cell_type": "code",
   "execution_count": 44,
   "metadata": {
    "collapsed": false
   },
   "outputs": [],
   "source": [
    "%matplotlib inline\n",
    "\n",
    "import json\n",
    "import os\n",
    "import random\n",
    "import re\n",
    "import unicodedata\n",
    "from dateutil import parser\n",
    "\n",
    "import numpy as np\n",
    "import matplotlib as plt\n",
    "import pandas as pd\n",
    "import unirest\n",
    "\n",
    "import processing"
   ]
  },
  {
   "cell_type": "code",
   "execution_count": 149,
   "metadata": {
    "collapsed": false
   },
   "outputs": [
    {
     "name": "stdout",
     "output_type": "stream",
     "text": [
      "285270\n"
     ]
    }
   ],
   "source": [
    "tweets_data = []\n",
    "\n",
    "for i in range(1,6):\n",
    "    data = 'data/data' + str(i) + '.txt'\n",
    "    tweets_file = open(data, \"r\")\n",
    "    for line in tweets_file:\n",
    "        try:\n",
    "            tweet = json.loads(line)\n",
    "            tweets_data.append(tweet)\n",
    "        except:\n",
    "            continue\n",
    "            \n",
    "print len(tweets_data)"
   ]
  },
  {
   "cell_type": "code",
   "execution_count": 150,
   "metadata": {
    "collapsed": false,
    "scrolled": true
   },
   "outputs": [],
   "source": [
    "#get raw tweet text from twitter\n",
    "data = []\n",
    "for item in tweets_data:\n",
    "    data.append(item.get(\"text\"))"
   ]
  },
  {
   "cell_type": "code",
   "execution_count": 151,
   "metadata": {
    "collapsed": false
   },
   "outputs": [],
   "source": [
    "#processed the tweets to remove extra characters\n",
    "processed = []\n",
    "for tweet in data:\n",
    "    try:\n",
    "        processed.append(processing.processTweet(tweet))\n",
    "    except:\n",
    "        continue\n",
    "        \n",
    "#format the tweet to remove AT_USER and URL and format from unicode text\n",
    "formatted = [re.sub(\"^rt|AT_USER|URL\", \"\", unicodedata.normalize('NFKD', item).encode('ascii','ignore')) for item in processed]"
   ]
  },
  {
   "cell_type": "code",
   "execution_count": 152,
   "metadata": {
    "collapsed": false
   },
   "outputs": [],
   "source": [
    "#extraact time of tweets\n",
    "times = []\n",
    "for item in tweets_data:\n",
    "    times.append(item.get(\"created_at\"))\n",
    "    \n",
    "#formatted unicode to proper datetime format\n"
   ]
  },
  {
   "cell_type": "code",
   "execution_count": 160,
   "metadata": {
    "collapsed": false,
    "scrolled": false
   },
   "outputs": [],
   "source": [
    "#convert the lists to a dataframe\n",
    "data = pd.DataFrame([times, formatted])\n",
    "data = data.transpose()\n",
    "data.columns = ['times','tweet']\n",
    "data['tweet'] = map(lambda x: str(x).strip(), data['tweet'])\n",
    "data.to_csv('tweets.csv', index = False)"
   ]
  },
  {
   "cell_type": "code",
   "execution_count": 47,
   "metadata": {
    "collapsed": false,
    "scrolled": true
   },
   "outputs": [],
   "source": [
    "#create a list to store sentiment of each text, looping through the dataframe, and appending it on.\n",
    "sentiment = []\n",
    "for text in data['tweet']:\n",
    "    response = unirest.post(\"https://twinword-sentiment-analysis.p.mashape.com/analyze/\",\n",
    "      headers={\n",
    "        \"X-Mashape-Key\": os.environ.get('NLP_KEY'),\n",
    "        \"Content-Type\": \"application/x-www-form-urlencoded\",\n",
    "        \"Accept\": \"application/json\"\n",
    "      },\n",
    "      params={\n",
    "        \"text\": text\n",
    "      }\n",
    "    )\n",
    "    sentiment.append(response.body.items()[6])"
   ]
  },
  {
   "cell_type": "code",
   "execution_count": 60,
   "metadata": {
    "collapsed": false
   },
   "outputs": [
    {
     "data": {
      "text/html": [
       "<div>\n",
       "<table border=\"1\" class=\"dataframe\">\n",
       "  <thead>\n",
       "    <tr style=\"text-align: right;\">\n",
       "      <th></th>\n",
       "      <th>times</th>\n",
       "      <th>tweet</th>\n",
       "      <th>1</th>\n",
       "    </tr>\n",
       "  </thead>\n",
       "  <tbody>\n",
       "    <tr>\n",
       "      <th>0</th>\n",
       "      <td>2015-11-28 18:46:24+00:00</td>\n",
       "      <td>trump2016 they love donald!</td>\n",
       "      <td>positive</td>\n",
       "    </tr>\n",
       "    <tr>\n",
       "      <th>1</th>\n",
       "      <td>2015-11-28 18:46:25+00:00</td>\n",
       "      <td>trump: we have to accept migrants here because...</td>\n",
       "      <td>negative</td>\n",
       "    </tr>\n",
       "    <tr>\n",
       "      <th>2</th>\n",
       "      <td>2015-11-28 18:46:25+00:00</td>\n",
       "      <td>media accuse trump of mocking disabled reporte...</td>\n",
       "      <td>negative</td>\n",
       "    </tr>\n",
       "    <tr>\n",
       "      <th>3</th>\n",
       "      <td>2015-11-28 18:46:25+00:00</td>\n",
       "      <td>how donald trump comes up with his ideas</td>\n",
       "      <td>neutral</td>\n",
       "    </tr>\n",
       "    <tr>\n",
       "      <th>4</th>\n",
       "      <td>2015-11-28 18:46:26+00:00</td>\n",
       "      <td>me: i hate stamps donald trump: i hate stamps me:</td>\n",
       "      <td>negative</td>\n",
       "    </tr>\n",
       "  </tbody>\n",
       "</table>\n",
       "</div>"
      ],
      "text/plain": [
       "                       times  \\\n",
       "0  2015-11-28 18:46:24+00:00   \n",
       "1  2015-11-28 18:46:25+00:00   \n",
       "2  2015-11-28 18:46:25+00:00   \n",
       "3  2015-11-28 18:46:25+00:00   \n",
       "4  2015-11-28 18:46:26+00:00   \n",
       "\n",
       "                                               tweet         1  \n",
       "0                        trump2016 they love donald!  positive  \n",
       "1  trump: we have to accept migrants here because...  negative  \n",
       "2  media accuse trump of mocking disabled reporte...  negative  \n",
       "3           how donald trump comes up with his ideas   neutral  \n",
       "4  me: i hate stamps donald trump: i hate stamps me:  negative  "
      ]
     },
     "execution_count": 60,
     "metadata": {},
     "output_type": "execute_result"
    }
   ],
   "source": [
    "#some cleaning up of the final dataframe\n",
    "withSentiment = data.join(pd.DataFrame(sentiment))\n",
    "withSentiment = withSentiment.iloc[:,[0,1,3]]\n",
    "withSentiment.columns = ['times','tweet','sentiment']\n",
    "withSentiment.head()\n",
    "\n",
    "#saving it\n",
    "withSentiment.to_csv('withSentiment.csv', index = False)\n",
    "withSentiment.head()"
   ]
  },
  {
   "cell_type": "code",
   "execution_count": 31,
   "metadata": {
    "collapsed": false
   },
   "outputs": [
    {
     "data": {
      "text/html": [
       "<div>\n",
       "<table border=\"1\" class=\"dataframe\">\n",
       "  <thead>\n",
       "    <tr style=\"text-align: right;\">\n",
       "      <th></th>\n",
       "      <th>times</th>\n",
       "      <th>tweet</th>\n",
       "      <th>sentiment</th>\n",
       "    </tr>\n",
       "  </thead>\n",
       "  <tbody>\n",
       "    <tr>\n",
       "      <th>0</th>\n",
       "      <td>Sat Nov 28 18:46:24 +0000 2015</td>\n",
       "      <td>trump2016 they love donald!</td>\n",
       "      <td>positive</td>\n",
       "    </tr>\n",
       "    <tr>\n",
       "      <th>1</th>\n",
       "      <td>Sat Nov 28 18:46:25 +0000 2015</td>\n",
       "      <td>trump: we have to accept migrants here because...</td>\n",
       "      <td>negative</td>\n",
       "    </tr>\n",
       "    <tr>\n",
       "      <th>2</th>\n",
       "      <td>Sat Nov 28 18:46:25 +0000 2015</td>\n",
       "      <td>media accuse trump of mocking disabled reporte...</td>\n",
       "      <td>negative</td>\n",
       "    </tr>\n",
       "    <tr>\n",
       "      <th>3</th>\n",
       "      <td>Sat Nov 28 18:46:25 +0000 2015</td>\n",
       "      <td>how donald trump comes up with his ideas</td>\n",
       "      <td>neutral</td>\n",
       "    </tr>\n",
       "    <tr>\n",
       "      <th>4</th>\n",
       "      <td>Sat Nov 28 18:46:26 +0000 2015</td>\n",
       "      <td>me: i hate stamps donald trump: i hate stamps me:</td>\n",
       "      <td>negative</td>\n",
       "    </tr>\n",
       "  </tbody>\n",
       "</table>\n",
       "</div>"
      ],
      "text/plain": [
       "                            times  \\\n",
       "0  Sat Nov 28 18:46:24 +0000 2015   \n",
       "1  Sat Nov 28 18:46:25 +0000 2015   \n",
       "2  Sat Nov 28 18:46:25 +0000 2015   \n",
       "3  Sat Nov 28 18:46:25 +0000 2015   \n",
       "4  Sat Nov 28 18:46:26 +0000 2015   \n",
       "\n",
       "                                               tweet sentiment  \n",
       "0                        trump2016 they love donald!  positive  \n",
       "1  trump: we have to accept migrants here because...  negative  \n",
       "2  media accuse trump of mocking disabled reporte...  negative  \n",
       "3           how donald trump comes up with his ideas   neutral  \n",
       "4  me: i hate stamps donald trump: i hate stamps me:  negative  "
      ]
     },
     "execution_count": 31,
     "metadata": {},
     "output_type": "execute_result"
    }
   ],
   "source": [
    "withSentiment = pd.read_csv('withSentiment.csv')\n",
    "withSentiment.head()"
   ]
  },
  {
   "cell_type": "code",
   "execution_count": 32,
   "metadata": {
    "collapsed": false,
    "scrolled": false
   },
   "outputs": [],
   "source": [
    "#pivot table to aggregate tweet sentiment\n",
    "pivotedTable = withSentiment.pivot_table(index = 'times',  columns='sentiment', aggfunc=len)\n",
    "pivotedTable = pivotedTable.fillna(0)\n",
    "data = pivotedTable['tweet'] #extracting part of the dataframe so I don't have to deal with multi-level indexing as much\n",
    "\n",
    "#create a custom function to parse times\n",
    "def parseTimes(time):\n",
    "    try:\n",
    "        return parser.parse(time)\n",
    "    except:\n",
    "        return None\n",
    "\n",
    "#list comprehension to parse times\n",
    "listOfTimes = [parseTimes(time) for time in data.index]"
   ]
  },
  {
   "cell_type": "code",
   "execution_count": 33,
   "metadata": {
    "collapsed": false,
    "scrolled": true
   },
   "outputs": [
    {
     "data": {
      "text/html": [
       "<div>\n",
       "<table border=\"1\" class=\"dataframe\">\n",
       "  <thead>\n",
       "    <tr style=\"text-align: right;\">\n",
       "      <th>sentiment</th>\n",
       "      <th>negative</th>\n",
       "      <th>neutral</th>\n",
       "      <th>positive</th>\n",
       "    </tr>\n",
       "  </thead>\n",
       "  <tbody>\n",
       "    <tr>\n",
       "      <th>2015-11-28 18:45:00+00:00</th>\n",
       "      <td>499</td>\n",
       "      <td>191</td>\n",
       "      <td>373</td>\n",
       "    </tr>\n",
       "    <tr>\n",
       "      <th>2015-11-28 18:50:00+00:00</th>\n",
       "      <td>700</td>\n",
       "      <td>372</td>\n",
       "      <td>508</td>\n",
       "    </tr>\n",
       "    <tr>\n",
       "      <th>2015-11-28 18:55:00+00:00</th>\n",
       "      <td>722</td>\n",
       "      <td>352</td>\n",
       "      <td>660</td>\n",
       "    </tr>\n",
       "    <tr>\n",
       "      <th>2015-11-28 19:00:00+00:00</th>\n",
       "      <td>641</td>\n",
       "      <td>335</td>\n",
       "      <td>520</td>\n",
       "    </tr>\n",
       "    <tr>\n",
       "      <th>2015-11-28 19:05:00+00:00</th>\n",
       "      <td>637</td>\n",
       "      <td>323</td>\n",
       "      <td>498</td>\n",
       "    </tr>\n",
       "  </tbody>\n",
       "</table>\n",
       "</div>"
      ],
      "text/plain": [
       "sentiment                  negative  neutral  positive\n",
       "2015-11-28 18:45:00+00:00       499      191       373\n",
       "2015-11-28 18:50:00+00:00       700      372       508\n",
       "2015-11-28 18:55:00+00:00       722      352       660\n",
       "2015-11-28 19:00:00+00:00       641      335       520\n",
       "2015-11-28 19:05:00+00:00       637      323       498"
      ]
     },
     "execution_count": 33,
     "metadata": {},
     "output_type": "execute_result"
    }
   ],
   "source": [
    "#changing the index of dataframe to match datetime class\n",
    "data = data.set_index(pd.DatetimeIndex(listOfTimes))\n",
    "\n",
    "#using resampling method to aggregate tweets again, in 5 minute increment this time.\n",
    "data = data.resample('5Min', how = 'sum')\n",
    "data.head()"
   ]
  },
  {
   "cell_type": "code",
   "execution_count": 201,
   "metadata": {
    "collapsed": false
   },
   "outputs": [
    {
     "data": {
      "text/plain": [
       "[<matplotlib.lines.Line2D at 0x30890e050>]"
      ]
     },
     "execution_count": 201,
     "metadata": {},
     "output_type": "execute_result"
    },
    {
     "data": {
      "image/png": "[encoded data removed]",
      "text/plain": [
       "<matplotlib.figure.Figure at 0x3089be390>"
      ]
     },
     "metadata": {},
     "output_type": "display_data"
    }
   ],
   "source": [
    "#first look at plots (notice the blanks)\n",
    "plt.pyplot.plot_date(data.index, data['positive'], ls = 'dashdot')"
   ]
  },
  {
   "cell_type": "code",
   "execution_count": 35,
   "metadata": {
    "collapsed": false
   },
   "outputs": [
    {
     "data": {
      "text/html": [
       "<div>\n",
       "<table border=\"1\" class=\"dataframe\">\n",
       "  <thead>\n",
       "    <tr style=\"text-align: right;\">\n",
       "      <th>sentiment</th>\n",
       "      <th>negative</th>\n",
       "      <th>neutral</th>\n",
       "      <th>positive</th>\n",
       "    </tr>\n",
       "  </thead>\n",
       "  <tbody>\n",
       "    <tr>\n",
       "      <th>2015-11-28 18:45:00+00:00</th>\n",
       "      <td>499</td>\n",
       "      <td>191</td>\n",
       "      <td>373</td>\n",
       "    </tr>\n",
       "    <tr>\n",
       "      <th>2015-11-28 18:50:00+00:00</th>\n",
       "      <td>700</td>\n",
       "      <td>372</td>\n",
       "      <td>508</td>\n",
       "    </tr>\n",
       "    <tr>\n",
       "      <th>2015-11-28 18:55:00+00:00</th>\n",
       "      <td>722</td>\n",
       "      <td>352</td>\n",
       "      <td>660</td>\n",
       "    </tr>\n",
       "    <tr>\n",
       "      <th>2015-11-28 19:00:00+00:00</th>\n",
       "      <td>641</td>\n",
       "      <td>335</td>\n",
       "      <td>520</td>\n",
       "    </tr>\n",
       "    <tr>\n",
       "      <th>2015-11-28 19:05:00+00:00</th>\n",
       "      <td>637</td>\n",
       "      <td>323</td>\n",
       "      <td>498</td>\n",
       "    </tr>\n",
       "  </tbody>\n",
       "</table>\n",
       "</div>"
      ],
      "text/plain": [
       "sentiment                  negative  neutral  positive\n",
       "2015-11-28 18:45:00+00:00       499      191       373\n",
       "2015-11-28 18:50:00+00:00       700      372       508\n",
       "2015-11-28 18:55:00+00:00       722      352       660\n",
       "2015-11-28 19:00:00+00:00       641      335       520\n",
       "2015-11-28 19:05:00+00:00       637      323       498"
      ]
     },
     "execution_count": 35,
     "metadata": {},
     "output_type": "execute_result"
    }
   ],
   "source": [
    "#removes \n",
    "data['sum'] = sum([data['negative'],data['positive'],data['neutral']])\n",
    "data = data.ix[data['sum'] > 0, ['negative','neutral','positive']]\n",
    "data.head()"
   ]
  },
  {
   "cell_type": "code",
   "execution_count": 42,
   "metadata": {
    "collapsed": false,
    "scrolled": true
   },
   "outputs": [
    {
     "data": {
      "text/plain": [
       "[<matplotlib.lines.Line2D at 0x108e55c50>]"
      ]
     },
     "execution_count": 42,
     "metadata": {},
     "output_type": "execute_result"
    },
    {
     "data": {
      "image/png": "[encoded data removed]",
      "text/plain": [
       "<matplotlib.figure.Figure at 0x10d72bb10>"
      ]
     },
     "metadata": {},
     "output_type": "display_data"
    }
   ],
   "source": [
    "plt.pyplot.plot_date(data.index, data['positive'], ls = '-', ms = 0)\n"
   ]
  },
  {
   "cell_type": "code",
   "execution_count": 46,
   "metadata": {
    "collapsed": false
   },
   "outputs": [
    {
     "ename": "TypeError",
     "evalue": "'module' object is not callable",
     "output_type": "error",
     "traceback": [
      "\u001b[0;31m---------------------------------------------------------------------------\u001b[0m",
      "\u001b[0;31mTypeError\u001b[0m                                 Traceback (most recent call last)",
      "\u001b[0;32m<ipython-input-46-716bc2e1c91b>\u001b[0m in \u001b[0;36m<module>\u001b[0;34m()\u001b[0m\n\u001b[0;32m----> 1\u001b[0;31m \u001b[0mplt\u001b[0m\u001b[0;34m.\u001b[0m\u001b[0mfigure\u001b[0m\u001b[0;34m(\u001b[0m\u001b[0mfigsize\u001b[0m\u001b[0;34m=\u001b[0m\u001b[0;34m(\u001b[0m\u001b[0;36m12\u001b[0m\u001b[0;34m,\u001b[0m \u001b[0;36m14\u001b[0m\u001b[0;34m)\u001b[0m\u001b[0;34m)\u001b[0m\u001b[0;34m\u001b[0m\u001b[0m\n\u001b[0m",
      "\u001b[0;31mTypeError\u001b[0m: 'module' object is not callable"
     ]
    }
   ],
   "source": [
    "plt.figure(figsize=(12, 14))  "
   ]
  },
  {
   "cell_type": "code",
   "execution_count": 47,
   "metadata": {
    "collapsed": false
   },
   "outputs": [
    {
     "ename": "ImportError",
     "evalue": "No module named plotly",
     "output_type": "error",
     "traceback": [
      "\u001b[0;31m---------------------------------------------------------------------------\u001b[0m",
      "\u001b[0;31mImportError\u001b[0m                               Traceback (most recent call last)",
      "\u001b[0;32m<ipython-input-47-c27a4132ad2e>\u001b[0m in \u001b[0;36m<module>\u001b[0;34m()\u001b[0m\n\u001b[0;32m----> 1\u001b[0;31m \u001b[0;32mimport\u001b[0m \u001b[0mplotly\u001b[0m\u001b[0;34m\u001b[0m\u001b[0m\n\u001b[0m",
      "\u001b[0;31mImportError\u001b[0m: No module named plotly"
     ]
    }
   ],
   "source": [
    "import plotly"
   ]
  }
 ],
 "metadata": {
  "kernelspec": {
   "display_name": "Python 2",
   "language": "python",
   "name": "python2"
  },
  "language_info": {
   "codemirror_mode": {
    "name": "ipython",
    "version": 2
   },
   "file_extension": ".py",
   "mimetype": "text/x-python",
   "name": "python",
   "nbconvert_exporter": "python",
   "pygments_lexer": "ipython2",
   "version": "2.7.10"
  }
 },
 "nbformat": 4,
 "nbformat_minor": 0
}
