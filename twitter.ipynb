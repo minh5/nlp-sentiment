{
 "cells": [
  {
   "cell_type": "code",
   "execution_count": 1,
   "metadata": {
    "collapsed": false
   },
   "outputs": [],
   "source": [
    "import json\n",
    "import os\n",
    "import random\n",
    "import re\n",
    "import unicodedata\n",
    "from dateutil import parser\n",
    "\n",
    "import matplotlib as plt\n",
    "import pandas as pd\n",
    "import unirest\n",
    "\n",
    "import processing"
   ]
  },
  {
   "cell_type": "code",
   "execution_count": 2,
   "metadata": {
    "collapsed": false
   },
   "outputs": [
    {
     "name": "stdout",
     "output_type": "stream",
     "text": [
      "285270\n"
     ]
    }
   ],
   "source": [
    "tweets_data = []\n",
    "\n",
    "for i in range(1,6):\n",
    "    data = 'data/data' + str(i) + '.txt'\n",
    "    tweets_file = open(data, \"r\")\n",
    "    for line in tweets_file:\n",
    "        try:\n",
    "            tweet = json.loads(line)\n",
    "            tweets_data.append(tweet)\n",
    "        except:\n",
    "            continue\n",
    "            \n",
    "print len(tweets_data)"
   ]
  },
  {
   "cell_type": "code",
   "execution_count": 3,
   "metadata": {
    "collapsed": false,
    "scrolled": true
   },
   "outputs": [],
   "source": [
    "#get raw tweet text from twitter\n",
    "data = []\n",
    "for item in tweets_data:\n",
    "    data.append(item.get(\"text\"))"
   ]
  },
  {
   "cell_type": "code",
   "execution_count": 4,
   "metadata": {
    "collapsed": false
   },
   "outputs": [],
   "source": [
    "#processed the tweets to remove extra characters\n",
    "processed = []\n",
    "for tweet in data:\n",
    "    try:\n",
    "        processed.append(processing.processTweet(tweet))\n",
    "    except:\n",
    "        continue\n",
    "        \n",
    "#format the tweet to remove AT_USER and URL and format from unicode text\n",
    "formatted = [re.sub(\"^rt|AT_USER|URL\", \"\", unicodedata.normalize('NFKD', item).encode('ascii','ignore')) for item in processed]"
   ]
  },
  {
   "cell_type": "code",
   "execution_count": 5,
   "metadata": {
    "collapsed": false
   },
   "outputs": [],
   "source": [
    "#extraact time of tweets\n",
    "times = []\n",
    "for item in tweets_data:\n",
    "    times.append(item.get(\"created_at\"))\n",
    "    \n",
    "#formatted unicode to proper datetime format\n",
    "def parseTimes(time):\n",
    "    try:\n",
    "        return parser.parse(time)\n",
    "    except:\n",
    "        return None\n",
    "\n",
    "newTimes = [parseTimes(time) for time in times]"
   ]
  },
  {
   "cell_type": "code",
   "execution_count": 6,
   "metadata": {
    "collapsed": false,
    "scrolled": true
   },
   "outputs": [
    {
     "data": {
      "text/html": [
       "<div>\n",
       "<table border=\"1\" class=\"dataframe\">\n",
       "  <thead>\n",
       "    <tr style=\"text-align: right;\">\n",
       "      <th></th>\n",
       "      <th>0</th>\n",
       "      <th>1</th>\n",
       "    </tr>\n",
       "  </thead>\n",
       "  <tbody>\n",
       "    <tr>\n",
       "      <th>0</th>\n",
       "      <td>2015-11-28 18:46:24+00:00</td>\n",
       "      <td>trump2016 they love donald!</td>\n",
       "    </tr>\n",
       "    <tr>\n",
       "      <th>1</th>\n",
       "      <td>2015-11-28 18:46:25+00:00</td>\n",
       "      <td>trump: we have to accept migrants here becau...</td>\n",
       "    </tr>\n",
       "    <tr>\n",
       "      <th>2</th>\n",
       "      <td>2015-11-28 18:46:25+00:00</td>\n",
       "      <td>media accuse trump of mocking disabled repor...</td>\n",
       "    </tr>\n",
       "    <tr>\n",
       "      <th>3</th>\n",
       "      <td>2015-11-28 18:46:25+00:00</td>\n",
       "      <td>how donald trump comes up with his ideas</td>\n",
       "    </tr>\n",
       "    <tr>\n",
       "      <th>4</th>\n",
       "      <td>2015-11-28 18:46:26+00:00</td>\n",
       "      <td>me: i hate stamps donald trump: i hate stamp...</td>\n",
       "    </tr>\n",
       "  </tbody>\n",
       "</table>\n",
       "</div>"
      ],
      "text/plain": [
       "                           0  \\\n",
       "0  2015-11-28 18:46:24+00:00   \n",
       "1  2015-11-28 18:46:25+00:00   \n",
       "2  2015-11-28 18:46:25+00:00   \n",
       "3  2015-11-28 18:46:25+00:00   \n",
       "4  2015-11-28 18:46:26+00:00   \n",
       "\n",
       "                                                   1  \n",
       "0                       trump2016 they love donald!   \n",
       "1    trump: we have to accept migrants here becau...  \n",
       "2    media accuse trump of mocking disabled repor...  \n",
       "3         how donald trump comes up with his ideas    \n",
       "4    me: i hate stamps donald trump: i hate stamp...  "
      ]
     },
     "execution_count": 6,
     "metadata": {},
     "output_type": "execute_result"
    }
   ],
   "source": [
    "#convert the lists to a dataframe\n",
    "data = pd.DataFrame([newTimes, formatted])\n",
    "data = data.transpose()\n",
    "data.head()\n",
    "data.columns = ['times','tweet']\n",
    "data['tweet'] = map(lambda x: str(x).strip(), data['tweet'])\n",
    "data.to_csv('tweets.csv', index = False)"
   ]
  },
  {
   "cell_type": "code",
   "execution_count": 81,
   "metadata": {
    "collapsed": false,
    "scrolled": true
   },
   "outputs": [
    {
     "data": {
      "text/plain": [
       "\"out tax dollars pay for this pos' protection\""
      ]
     },
     "execution_count": 81,
     "metadata": {},
     "output_type": "execute_result"
    }
   ],
   "source": [
    "confidence = []\n",
    "sentiment = []\n",
    "for text in data['tweet']:\n",
    "    response = unirest.post(\"https://community-sentiment.p.mashape.com/text/\",\n",
    "      headers={\n",
    "        \"X-Mashape-Key\": os.environ.get('NLP_KEY'),\n",
    "        \"Content-Type\": \"application/x-www-form-urlencoded\",\n",
    "        \"Accept\": \"application/json\"\n",
    "      },\n",
    "      params={\n",
    "        \"txt\": text\n",
    "      }\n",
    "    )\n",
    "    \n",
    "    confidence.append(response.body.items()[0][1]['confidence'])\n",
    "    sentiment.append(response.body.items()[0][1]['sentiment'])"
   ]
  }
 ],
 "metadata": {
  "kernelspec": {
   "display_name": "Python 2",
   "language": "python",
   "name": "python2"
  },
  "language_info": {
   "codemirror_mode": {
    "name": "ipython",
    "version": 2
   },
   "file_extension": ".py",
   "mimetype": "text/x-python",
   "name": "python",
   "nbconvert_exporter": "python",
   "pygments_lexer": "ipython2",
   "version": "2.7.10"
  }
 },
 "nbformat": 4,
 "nbformat_minor": 0
}
