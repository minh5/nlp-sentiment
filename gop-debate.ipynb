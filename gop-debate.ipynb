{
 "cells": [
  {
   "cell_type": "code",
   "execution_count": 3,
   "metadata": {
    "collapsed": false
   },
   "outputs": [],
   "source": [
    "import json\n",
    "import os\n",
    "import random\n",
    "import re\n",
    "import unicodedata\n",
    "import sys\n",
    "from dateutil import parser\n",
    "\n",
    "import numpy as np\n",
    "import pandas as pd\n",
    "import unirest\n",
    "\n",
    "sys.path.insert(0, '../archive')\n",
    "import processing"
   ]
  },
  {
   "cell_type": "code",
   "execution_count": 4,
   "metadata": {
    "collapsed": true
   },
   "outputs": [],
   "source": [
    "tweets_data = []\n",
    "data = 'rawTweets.txt'\n",
    "tweets_file = open(data, \"r\")\n",
    "for line in tweets_file:\n",
    "    try:\n",
    "        tweet = json.loads(line)\n",
    "        tweets_data.append(tweet)\n",
    "    except:\n",
    "        continue"
   ]
  },
  {
   "cell_type": "code",
   "execution_count": 9,
   "metadata": {
    "collapsed": false
   },
   "outputs": [
    {
     "data": {
      "text/html": [
       "<div>\n",
       "<table border=\"1\" class=\"dataframe\">\n",
       "  <thead>\n",
       "    <tr style=\"text-align: right;\">\n",
       "      <th></th>\n",
       "      <th>times</th>\n",
       "      <th>tweet</th>\n",
       "    </tr>\n",
       "  </thead>\n",
       "  <tbody>\n",
       "    <tr>\n",
       "      <th>0</th>\n",
       "      <td>Fri Jan 29 01:45:03 +0000 2016</td>\n",
       "      <td>are you rooting for  in tonight's gopdebate? r...</td>\n",
       "    </tr>\n",
       "    <tr>\n",
       "      <th>1</th>\n",
       "      <td>Fri Jan 29 01:45:03 +0000 2016</td>\n",
       "      <td>a2: :ast gopdebate featured trump humanizing h...</td>\n",
       "    </tr>\n",
       "    <tr>\n",
       "      <th>2</th>\n",
       "      <td>Fri Jan 29 01:45:03 +0000 2016</td>\n",
       "      <td>.agree...disgusting a supposed christian hucka...</td>\n",
       "    </tr>\n",
       "    <tr>\n",
       "      <th>3</th>\n",
       "      <td>Fri Jan 29 01:45:04 +0000 2016</td>\n",
       "      <td>how's that milkshake,  ? gopdebate</td>\n",
       "    </tr>\n",
       "    <tr>\n",
       "      <th>4</th>\n",
       "      <td>Fri Jan 29 01:45:04 +0000 2016</td>\n",
       "      <td>are you rooting for  in tonight's gopdebate? r...</td>\n",
       "    </tr>\n",
       "  </tbody>\n",
       "</table>\n",
       "</div>"
      ],
      "text/plain": [
       "                            times  \\\n",
       "0  Fri Jan 29 01:45:03 +0000 2016   \n",
       "1  Fri Jan 29 01:45:03 +0000 2016   \n",
       "2  Fri Jan 29 01:45:03 +0000 2016   \n",
       "3  Fri Jan 29 01:45:04 +0000 2016   \n",
       "4  Fri Jan 29 01:45:04 +0000 2016   \n",
       "\n",
       "                                               tweet  \n",
       "0  are you rooting for  in tonight's gopdebate? r...  \n",
       "1  a2: :ast gopdebate featured trump humanizing h...  \n",
       "2  .agree...disgusting a supposed christian hucka...  \n",
       "3                 how's that milkshake,  ? gopdebate  \n",
       "4  are you rooting for  in tonight's gopdebate? r...  "
      ]
     },
     "execution_count": 9,
     "metadata": {},
     "output_type": "execute_result"
    }
   ],
   "source": [
    "#extracting text\n",
    "data = []\n",
    "for item in tweets_data:\n",
    "    data.append(item.get(\"text\"))\n",
    "    \n",
    "#processed the tweets to remove extra characters\n",
    "processed = []\n",
    "for tweet in data:\n",
    "    try:\n",
    "        processed.append(processing.processTweet(tweet))\n",
    "    except:\n",
    "        continue\n",
    "        \n",
    "#format the tweet to remove AT_USER and URL and format from unicode text\n",
    "formatted = [re.sub(\"^rt|AT_USER|URL\", \"\", unicodedata.normalize('NFKD', item).encode('ascii','ignore')) for item in processed]\n",
    "\n",
    "#extract time of tweets\n",
    "times = []\n",
    "for item in tweets_data:\n",
    "    times.append(item.get(\"created_at\"))\n",
    "    \n",
    "#convert the lists to a dataframe\n",
    "data = pd.DataFrame([times, formatted])\n",
    "data = data.transpose()\n",
    "data.columns = ['times','tweet']\n",
    "data['tweet'] = map(lambda x: str(x).strip(), data['tweet'])\n",
    "data.head()"
   ]
  },
  {
   "cell_type": "code",
   "execution_count": 10,
   "metadata": {
    "collapsed": false
   },
   "outputs": [],
   "source": [
    "data.to_csv('tweets.csv', index = False)"
   ]
  },
  {
   "cell_type": "code",
   "execution_count": 13,
   "metadata": {
    "collapsed": false
   },
   "outputs": [
    {
     "ename": "AttributeError",
     "evalue": "'str' object has no attribute 'items'",
     "output_type": "error",
     "traceback": [
      "\u001b[0;31m---------------------------------------------------------------------------\u001b[0m",
      "\u001b[0;31mAttributeError\u001b[0m                            Traceback (most recent call last)",
      "\u001b[0;32m<ipython-input-13-63dab916d142>\u001b[0m in \u001b[0;36m<module>\u001b[0;34m()\u001b[0m\n\u001b[1;32m     11\u001b[0m       }\n\u001b[1;32m     12\u001b[0m     )\n\u001b[0;32m---> 13\u001b[0;31m     \u001b[0msentiment\u001b[0m\u001b[0;34m.\u001b[0m\u001b[0mappend\u001b[0m\u001b[0;34m(\u001b[0m\u001b[0mresponse\u001b[0m\u001b[0;34m.\u001b[0m\u001b[0mbody\u001b[0m\u001b[0;34m.\u001b[0m\u001b[0mitems\u001b[0m\u001b[0;34m(\u001b[0m\u001b[0;34m)\u001b[0m\u001b[0;34m[\u001b[0m\u001b[0;36m6\u001b[0m\u001b[0;34m]\u001b[0m\u001b[0;34m)\u001b[0m\u001b[0;34m\u001b[0m\u001b[0m\n\u001b[0m",
      "\u001b[0;31mAttributeError\u001b[0m: 'str' object has no attribute 'items'"
     ]
    }
   ],
   "source": [
    "sentiment = []\n",
    "for text in data['tweet']:\n",
    "    try:\n",
    "    response = unirest.post(\"https://twinword-sentiment-analysis.p.mashape.com/analyze/\",\n",
    "      headers={\n",
    "        \"X-Mashape-Key\": os.environ.get('NLP_KEY'),\n",
    "        \"Content-Type\": \"application/x-www-form-urlencoded\",\n",
    "        \"Accept\": \"application/json\"\n",
    "      },\n",
    "      params={\n",
    "        \"text\": text\n",
    "      }\n",
    "    )\n",
    "    sentiment.append(response.body.items()[6])"
   ]
  },
  {
   "cell_type": "code",
   "execution_count": 21,
   "metadata": {
    "collapsed": false
   },
   "outputs": [],
   "source": [
    "# These code snippets use an open-source library. http://unirest.io/python\n",
    "sentiment = []\n",
    "for text in data['tweet']:\n",
    "    try:\n",
    "        response = unirest.post(\"https://community-sentiment.p.mashape.com/text/\",\n",
    "          headers={\n",
    "            \"X-Mashape-Key\": \"PSzWEGLQ2VmshEOfW2ZT8EigxkjGp1xpEarjsnjlkBjD4dZdMU\",\n",
    "            \"Content-Type\": \"application/x-www-form-urlencoded\",\n",
    "            \"Accept\": \"application/json\"\n",
    "          },\n",
    "          params={\n",
    "            \"txt\": text\n",
    "          }\n",
    "        )\n",
    "        sentiment.append(response.body.items()[0][1]['sentiment'])\n",
    "        unirest.timeout(5)\n",
    "    except:\n",
    "        sentiment.append('ERROR')\n",
    "        unirest.timeout(5)\n",
    "        continue"
   ]
  },
  {
   "cell_type": "code",
   "execution_count": 42,
   "metadata": {
    "collapsed": false
   },
   "outputs": [],
   "source": [
    "withSentiment = data.join(pd.DataFrame(sentiment))\n",
    "withSentiment.columns = ['time','tweet','sentiment']\n",
    "withSentiment.to_csv('data_with_sentiment.csv', index = False)"
   ]
  },
  {
   "cell_type": "code",
   "execution_count": 38,
   "metadata": {
    "collapsed": false
   },
   "outputs": [
    {
     "data": {
      "text/html": [
       "<div>\n",
       "<table border=\"1\" class=\"dataframe\">\n",
       "  <thead>\n",
       "    <tr style=\"text-align: right;\">\n",
       "      <th></th>\n",
       "      <th>sentiment</th>\n",
       "    </tr>\n",
       "  </thead>\n",
       "  <tbody>\n",
       "    <tr>\n",
       "      <th>0</th>\n",
       "      <td>Positive</td>\n",
       "    </tr>\n",
       "    <tr>\n",
       "      <th>1</th>\n",
       "      <td>Neutral</td>\n",
       "    </tr>\n",
       "    <tr>\n",
       "      <th>2</th>\n",
       "      <td>Negative</td>\n",
       "    </tr>\n",
       "    <tr>\n",
       "      <th>3</th>\n",
       "      <td>Neutral</td>\n",
       "    </tr>\n",
       "    <tr>\n",
       "      <th>4</th>\n",
       "      <td>Positive</td>\n",
       "    </tr>\n",
       "  </tbody>\n",
       "</table>\n",
       "</div>"
      ],
      "text/plain": [
       "  sentiment\n",
       "0  Positive\n",
       "1   Neutral\n",
       "2  Negative\n",
       "3   Neutral\n",
       "4  Positive"
      ]
     },
     "execution_count": 38,
     "metadata": {},
     "output_type": "execute_result"
    }
   ],
   "source": [
    "sentimentDf.columns = ['sentiment']\n",
    "sentimentDf.head()"
   ]
  },
  {
   "cell_type": "code",
   "execution_count": 40,
   "metadata": {
    "collapsed": false
   },
   "outputs": [
    {
     "data": {
      "text/plain": [
       "Negative    169936\n",
       "Neutral     124069\n",
       "Positive    110112\n",
       "ERROR           10\n",
       "Name: sentiment, dtype: int64"
      ]
     },
     "execution_count": 40,
     "metadata": {},
     "output_type": "execute_result"
    }
   ],
   "source": [
    "sentimentDf['sentiment'].value_counts()"
   ]
  }
 ],
 "metadata": {
  "kernelspec": {
   "display_name": "Python 2",
   "language": "python",
   "name": "python2"
  },
  "language_info": {
   "codemirror_mode": {
    "name": "ipython",
    "version": 2
   },
   "file_extension": ".py",
   "mimetype": "text/x-python",
   "name": "python",
   "nbconvert_exporter": "python",
   "pygments_lexer": "ipython2",
   "version": "2.7.10"
  }
 },
 "nbformat": 4,
 "nbformat_minor": 0
}
